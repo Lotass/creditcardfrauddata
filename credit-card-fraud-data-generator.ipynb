{
 "cells": [
  {
   "cell_type": "code",
   "execution_count": 1,
   "metadata": {
    "collapsed": false
   },
   "outputs": [],
   "source": [
    "import time\n",
    "import random\n",
    "\n",
    "import pandas as pd\n",
    "import numpy as np\n",
    "\n",
    "from faker import Factory"
   ]
  },
  {
   "cell_type": "code",
   "execution_count": 2,
   "metadata": {
    "collapsed": false
   },
   "outputs": [],
   "source": [
    "fake = Factory.create()"
   ]
  },
  {
   "cell_type": "code",
   "execution_count": 3,
   "metadata": {
    "collapsed": true
   },
   "outputs": [],
   "source": [
    "companies = pd.read_csv('./companies.csv')"
   ]
  },
  {
   "cell_type": "code",
   "execution_count": 8,
   "metadata": {
    "collapsed": false
   },
   "outputs": [],
   "source": [
    "companies = companies.name.values"
   ]
  },
  {
   "cell_type": "code",
   "execution_count": 9,
   "metadata": {
    "collapsed": true
   },
   "outputs": [],
   "source": [
    "random.shuffle(companies)"
   ]
  },
  {
   "cell_type": "code",
   "execution_count": 34,
   "metadata": {
    "collapsed": false
   },
   "outputs": [],
   "source": [
    "def generate_people(n):\n",
    "    \"\"\" Generates n-people, and returns a data frame.\n",
    "        Each person has a:\n",
    "            - id\n",
    "            - age\n",
    "            - name\n",
    "            - address\n",
    "            \n",
    "        Two of them may be unexpected:\n",
    "            - compromised: 0 or 1\n",
    "            - compromised: if compromised, when\n",
    "            \n",
    "        These values get set by other functions.\"\"\"\n",
    "    \n",
    "    ids = [i for i in range(n)]\n",
    "    names = [fake.name() for n in range(n)]\n",
    "    uuids = [fake.uuid4() for n in range(n)]\n",
    "    ages = [random.randint(18, 80) for n in range(n)]\n",
    "    addresses = [fake.address().replace('\\n', ', ') for n in range(n)]\n",
    "    compromised = list(np.zeros(n))\n",
    "    compromised_time = list(np.zeros(n))\n",
    "    \n",
    "    df = pd.DataFrame([ids, uuids, names, ages, addresses, compromised, compromised_time]).T\n",
    "    df.columns = ['id', 'uuid', 'name', 'age', 'address', 'compromised', 'compromised_time']\n",
    "    return df"
   ]
  },
  {
   "cell_type": "code",
   "execution_count": 21,
   "metadata": {
    "collapsed": false
   },
   "outputs": [],
   "source": [
    "def generate_business(n, fraudster_likelihood=0.01):\n",
    "    \"\"\" Generates n-businesses, and returns a data frame.\n",
    "        Each person has a:\n",
    "            - id\n",
    "            - name\n",
    "            - address\n",
    "            \n",
    "        The one weird one is \"frauders_present\" which is controlled by the fraudster_likelihood option.\n",
    "            \n",
    "        These values get set by other functions.\"\"\"\n",
    "    \n",
    "    ids = [i for i in range(n)]\n",
    "    names = list(companies[:n])\n",
    "    addresses = [fake.address().replace('\\n', ', ') for n in range(n)]\n",
    "    fraudsters = [1 if random.random() < fraudster_likelihood else 0 for n in range(n) ]\n",
    "    \n",
    "    df = pd.DataFrame([ids, names, addresses, fraudsters]).T\n",
    "    df.columns = ['id', 'name', 'address', 'fraudsters_present']\n",
    "    return df"
   ]
  },
  {
   "cell_type": "code",
   "execution_count": 46,
   "metadata": {
    "collapsed": false
   },
   "outputs": [],
   "source": [
    "def generate_normal_transactions(people, businesses, max_transactions=40, fraud_likelihood=1, earliest=\"-1mon\", latest=\"now\", amin=9, amax=300):\n",
    "    \"\"\" Generates normal transactions. Returns a list.\"\"\"\n",
    "    transactions = []\n",
    "    \n",
    "    # For each person\n",
    "    for p in range(len(people)):\n",
    "        \n",
    "        person = people.ix[p]\n",
    "        number_of_transactions = random.randint(1, max_transactions)\n",
    "        \n",
    "        # Generate soem transactions\n",
    "        for i in range(number_of_transactions):\n",
    "\n",
    "            # random time and business\n",
    "            time = fake.date_time_between(start_date=earliest, end_date=latest, tzinfo=None)\n",
    "            business = businesses.sample(1)\n",
    "            amount = random.randint(amin, amax) + round(random.random(), 2)\n",
    "\n",
    "            # if fraudsters are present, they may or may not steal\n",
    "            # the users information\n",
    "            if business.fraudsters_present.values[0] == 1:\n",
    "                if random.random() < fraud_likelihood:\n",
    "                    people.set_value(person.id, 'compromised', 1)\n",
    "                    people.set_value(person.id, 'compromised_time', time)\n",
    "\n",
    "            transaction = '{time} uuid={uuid} user=\"{user}\" business=\"{business}\" amount={amount} disputed=false'.format(\n",
    "                    time = time,\n",
    "                    uuid = person['uuid'],\n",
    "                    user = person['name'],\n",
    "                    business = business.name.values[0],\n",
    "                    amount = amount)\n",
    "\n",
    "            transactions.append(transaction)\n",
    "\n",
    "    return transactions"
   ]
  },
  {
   "cell_type": "code",
   "execution_count": 47,
   "metadata": {
    "collapsed": false
   },
   "outputs": [],
   "source": [
    "def generate_fradulent_transactions(people, businesses, max_transactions=40, user_fraud_detection_likelihood=0.10, latest=\"+10d\", amin=1, amax=3000):\n",
    "    \"\"\" Genereates fradulent transactions. Returns a list.\"\"\"\n",
    "    transactions = []\n",
    "    compromised = people[people.compromised == 1]\n",
    "    \n",
    "    for i in range(len(compromised)):\n",
    "        \n",
    "        person = compromised.iloc[i]\n",
    "        earliest = person.compromised_time\n",
    "        time = fake.date_time_between(start_date=earliest, end_date=latest, tzinfo=None)\n",
    "        number_of_transactions = random.randint(5, max_transactions)\n",
    "        \n",
    "        for j in range(number_of_transactions):\n",
    "    \n",
    "            def fraud():        \n",
    "\n",
    "                business = businesses.sample(1)\n",
    "                amount = random.randint(amin, amax) + round(random.random(), 2)\n",
    "\n",
    "                transaction = '{time} uuid={uuid} user=\"{user}\" business=\"{business}\" amount={amount} disputed=true'.format(\n",
    "                    time = time,\n",
    "                    uuid = person['uuid'],\n",
    "                    user = person['name'],\n",
    "                    business = business.name.values[0],\n",
    "                    amount = amount)\n",
    "\n",
    "                transactions.append(transaction)\n",
    "\n",
    "            if j == 1:\n",
    "                fraud()\n",
    "\n",
    "            # Each fradulent transaction has +1% chance of being cause from the user\n",
    "            # Imaginging they are maybe monitoring their transaction history\n",
    "            # Or happen to be checking one thing or another\n",
    "            if random.random() < j/100:\n",
    "                fraud()\n",
    "            \n",
    "    return transactions"
   ]
  },
  {
   "cell_type": "code",
   "execution_count": 37,
   "metadata": {
    "collapsed": false
   },
   "outputs": [
    {
     "data": {
      "text/html": [
       "<div>\n",
       "<table border=\"1\" class=\"dataframe\">\n",
       "  <thead>\n",
       "    <tr style=\"text-align: right;\">\n",
       "      <th></th>\n",
       "      <th>id</th>\n",
       "      <th>uuid</th>\n",
       "      <th>name</th>\n",
       "      <th>age</th>\n",
       "      <th>address</th>\n",
       "      <th>compromised</th>\n",
       "      <th>compromised_time</th>\n",
       "    </tr>\n",
       "  </thead>\n",
       "  <tbody>\n",
       "    <tr>\n",
       "      <th>0</th>\n",
       "      <td>0</td>\n",
       "      <td>ede39b42-d920-4219-8c24-c449cf95ce85</td>\n",
       "      <td>Meghan Arellano</td>\n",
       "      <td>39</td>\n",
       "      <td>962 Danielle Shoal, North Emilyberg, CO 00663</td>\n",
       "      <td>0</td>\n",
       "      <td>0</td>\n",
       "    </tr>\n",
       "    <tr>\n",
       "      <th>1</th>\n",
       "      <td>1</td>\n",
       "      <td>97674712-3704-4801-992a-36210a2d27e3</td>\n",
       "      <td>Jade Davis</td>\n",
       "      <td>46</td>\n",
       "      <td>58847 Anne Springs Apt. 480, Coreystad, KS 842...</td>\n",
       "      <td>0</td>\n",
       "      <td>0</td>\n",
       "    </tr>\n",
       "    <tr>\n",
       "      <th>2</th>\n",
       "      <td>2</td>\n",
       "      <td>f2a78982-d10e-4ce0-b0ee-84bd721f4512</td>\n",
       "      <td>Jason Randolph</td>\n",
       "      <td>74</td>\n",
       "      <td>984 Vang Spring Suite 995, Ellishaven, OR 4087...</td>\n",
       "      <td>0</td>\n",
       "      <td>0</td>\n",
       "    </tr>\n",
       "  </tbody>\n",
       "</table>\n",
       "</div>"
      ],
      "text/plain": [
       "  id                                  uuid             name age  \\\n",
       "0  0  ede39b42-d920-4219-8c24-c449cf95ce85  Meghan Arellano  39   \n",
       "1  1  97674712-3704-4801-992a-36210a2d27e3       Jade Davis  46   \n",
       "2  2  f2a78982-d10e-4ce0-b0ee-84bd721f4512   Jason Randolph  74   \n",
       "\n",
       "                                             address compromised  \\\n",
       "0      962 Danielle Shoal, North Emilyberg, CO 00663           0   \n",
       "1  58847 Anne Springs Apt. 480, Coreystad, KS 842...           0   \n",
       "2  984 Vang Spring Suite 995, Ellishaven, OR 4087...           0   \n",
       "\n",
       "  compromised_time  \n",
       "0                0  \n",
       "1                0  \n",
       "2                0  "
      ]
     },
     "execution_count": 37,
     "metadata": {},
     "output_type": "execute_result"
    }
   ],
   "source": [
    "generate_people(3)"
   ]
  },
  {
   "cell_type": "code",
   "execution_count": 38,
   "metadata": {
    "collapsed": false
   },
   "outputs": [
    {
     "data": {
      "text/html": [
       "<div>\n",
       "<table border=\"1\" class=\"dataframe\">\n",
       "  <thead>\n",
       "    <tr style=\"text-align: right;\">\n",
       "      <th></th>\n",
       "      <th>id</th>\n",
       "      <th>name</th>\n",
       "      <th>address</th>\n",
       "      <th>fraudsters_present</th>\n",
       "    </tr>\n",
       "  </thead>\n",
       "  <tbody>\n",
       "    <tr>\n",
       "      <th>0</th>\n",
       "      <td>0</td>\n",
       "      <td>AGCO Corporation</td>\n",
       "      <td>3288 Hickman Mall Suite 872, Garzafurt, MT 210...</td>\n",
       "      <td>0</td>\n",
       "    </tr>\n",
       "    <tr>\n",
       "      <th>1</th>\n",
       "      <td>1</td>\n",
       "      <td>StoneMor Partners L.P.</td>\n",
       "      <td>15617 Kenneth Fork, West Diana, KS 11678-8902</td>\n",
       "      <td>0</td>\n",
       "    </tr>\n",
       "    <tr>\n",
       "      <th>2</th>\n",
       "      <td>2</td>\n",
       "      <td>Global Brass and Copper Holdings, Inc.</td>\n",
       "      <td>46556 Richard Dam, Leeside, MO 16521-9998</td>\n",
       "      <td>0</td>\n",
       "    </tr>\n",
       "  </tbody>\n",
       "</table>\n",
       "</div>"
      ],
      "text/plain": [
       "  id                                    name  \\\n",
       "0  0                        AGCO Corporation   \n",
       "1  1                  StoneMor Partners L.P.   \n",
       "2  2  Global Brass and Copper Holdings, Inc.   \n",
       "\n",
       "                                             address fraudsters_present  \n",
       "0  3288 Hickman Mall Suite 872, Garzafurt, MT 210...                  0  \n",
       "1      15617 Kenneth Fork, West Diana, KS 11678-8902                  0  \n",
       "2          46556 Richard Dam, Leeside, MO 16521-9998                  0  "
      ]
     },
     "execution_count": 38,
     "metadata": {},
     "output_type": "execute_result"
    }
   ],
   "source": [
    "generate_business(3)"
   ]
  },
  {
   "cell_type": "code",
   "execution_count": 48,
   "metadata": {
    "collapsed": true
   },
   "outputs": [],
   "source": [
    "p = generate_people(100)\n",
    "b = generate_business(1000)"
   ]
  },
  {
   "cell_type": "code",
   "execution_count": 49,
   "metadata": {
    "collapsed": false
   },
   "outputs": [
    {
     "data": {
      "text/plain": [
       "11"
      ]
     },
     "execution_count": 49,
     "metadata": {},
     "output_type": "execute_result"
    }
   ],
   "source": [
    "b.fraudsters_present.sum()"
   ]
  },
  {
   "cell_type": "code",
   "execution_count": 63,
   "metadata": {
    "collapsed": false
   },
   "outputs": [],
   "source": [
    "t = generate_normal_transactions(p, b)"
   ]
  },
  {
   "cell_type": "code",
   "execution_count": 64,
   "metadata": {
    "collapsed": false
   },
   "outputs": [],
   "source": [
    "f = generate_fradulent_transactions(p, b)"
   ]
  },
  {
   "cell_type": "code",
   "execution_count": 65,
   "metadata": {
    "collapsed": false
   },
   "outputs": [
    {
     "data": {
      "text/plain": [
       "0.045342533267619514"
      ]
     },
     "execution_count": 65,
     "metadata": {},
     "output_type": "execute_result"
    }
   ],
   "source": [
    "# disputed_ratio\n",
    "len(f) / (len(t) + len(f))"
   ]
  },
  {
   "cell_type": "code",
   "execution_count": 66,
   "metadata": {
    "collapsed": false
   },
   "outputs": [
    {
     "data": {
      "text/plain": [
       "(['2016-08-05 14:36:38 uuid=29c0a14c-e7f9-4be3-9ca0-0906f20c1a5e user=\"Donna Benitez\" business=\"General Growth Properties, Inc.\" amount=213.48 disputed=false',\n",
       "  '2016-08-05 14:37:03 uuid=29c0a14c-e7f9-4be3-9ca0-0906f20c1a5e user=\"Donna Benitez\" business=\"Energy Transfer Equity, L.P.\" amount=218.77 disputed=false',\n",
       "  '2016-08-05 14:36:49 uuid=515b1965-c6c8-44bf-947f-37a395a9a6a3 user=\"Sharon Bradley\" business=\"Cobalt International Energy, Inc.\" amount=29.01 disputed=false',\n",
       "  '2016-08-05 14:36:27 uuid=22f5fbf7-1fba-4f9c-a6b7-ca913944c2b6 user=\"Patricia Joseph\" business=\"Orion Engineered Carbons S.A\" amount=292.71 disputed=false',\n",
       "  '2016-08-05 14:36:38 uuid=22f5fbf7-1fba-4f9c-a6b7-ca913944c2b6 user=\"Patricia Joseph\" business=\"HudBay Minerals Inc\" amount=120.27 disputed=false'],\n",
       " ['2016-08-10 18:59:32 uuid=a576d115-620b-41f1-9890-58d1551bfd2d user=\"Holly Montoya\" business=\"New Relic, Inc.\" amount=149.43 disputed=true',\n",
       "  '2016-08-07 10:02:37 uuid=3f27b95e-8161-4ebc-bce4-a47175a98124 user=\"Randy Lopez\" business=\"Eaton Vance Corporation\" amount=2090.92 disputed=true',\n",
       "  '2016-08-10 16:14:03 uuid=52be46d0-cbc1-4c46-8f28-573df48c0ac8 user=\"Daniel Olsen\" business=\"United Continental Holdings, Inc.\" amount=609.51 disputed=true',\n",
       "  '2016-08-10 16:14:03 uuid=52be46d0-cbc1-4c46-8f28-573df48c0ac8 user=\"Daniel Olsen\" business=\"Dynegy Inc.\" amount=573.97 disputed=true',\n",
       "  '2016-08-10 16:14:03 uuid=52be46d0-cbc1-4c46-8f28-573df48c0ac8 user=\"Daniel Olsen\" business=\"Era Group, Inc.\" amount=973.42 disputed=true'])"
      ]
     },
     "execution_count": 66,
     "metadata": {},
     "output_type": "execute_result"
    }
   ],
   "source": [
    "t[:5], f[:5]"
   ]
  },
  {
   "cell_type": "code",
   "execution_count": 67,
   "metadata": {
    "collapsed": false
   },
   "outputs": [
    {
     "data": {
      "text/plain": [
       "2029"
      ]
     },
     "execution_count": 67,
     "metadata": {},
     "output_type": "execute_result"
    }
   ],
   "source": [
    "len(t) + len(f)"
   ]
  },
  {
   "cell_type": "code",
   "execution_count": 68,
   "metadata": {
    "collapsed": false
   },
   "outputs": [
    {
     "data": {
      "text/plain": [
       "2029"
      ]
     },
     "execution_count": 68,
     "metadata": {},
     "output_type": "execute_result"
    }
   ],
   "source": [
    "t.extend(f)\n",
    "len(t)"
   ]
  },
  {
   "cell_type": "code",
   "execution_count": 73,
   "metadata": {
    "collapsed": false
   },
   "outputs": [],
   "source": [
    "with open('output.log', 'w') as f:\n",
    "    for line in t:\n",
    "        f.write(line)\n",
    "        f.write('\\n')"
   ]
  },
  {
   "cell_type": "code",
   "execution_count": 74,
   "metadata": {
    "collapsed": false
   },
   "outputs": [
    {
     "name": "stdout",
     "output_type": "stream",
     "text": [
      "Untitled.ipynb     companylist.csv    output.log\r\n",
      "\u001b[37mbin\u001b[m\u001b[m                \u001b[37minclude\u001b[m\u001b[m            pip-selfcheck.json\r\n",
      "companies.csv      \u001b[37mlib\u001b[m\u001b[m                \u001b[37mshare\u001b[m\u001b[m\r\n"
     ]
    }
   ],
   "source": [
    "! ls"
   ]
  },
  {
   "cell_type": "code",
   "execution_count": 75,
   "metadata": {
    "collapsed": false
   },
   "outputs": [
    {
     "name": "stdout",
     "output_type": "stream",
     "text": [
      "2016-08-05 14:36:38 uuid=29c0a14c-e7f9-4be3-9ca0-0906f20c1a5e user=\"Donna Benitez\" business=\"General Growth Properties, Inc.\" amount=213.48 disputed=false\r\n",
      "2016-08-05 14:37:03 uuid=29c0a14c-e7f9-4be3-9ca0-0906f20c1a5e user=\"Donna Benitez\" business=\"Energy Transfer Equity, L.P.\" amount=218.77 disputed=false\r\n",
      "2016-08-05 14:36:49 uuid=515b1965-c6c8-44bf-947f-37a395a9a6a3 user=\"Sharon Bradley\" business=\"Cobalt International Energy, Inc.\" amount=29.01 disputed=false\r\n",
      "2016-08-05 14:36:27 uuid=22f5fbf7-1fba-4f9c-a6b7-ca913944c2b6 user=\"Patricia Joseph\" business=\"Orion Engineered Carbons S.A\" amount=292.71 disputed=false\r\n",
      "2016-08-05 14:36:38 uuid=22f5fbf7-1fba-4f9c-a6b7-ca913944c2b6 user=\"Patricia Joseph\" business=\"HudBay Minerals Inc\" amount=120.27 disputed=false\r\n",
      "2016-08-05 14:36:17 uuid=22f5fbf7-1fba-4f9c-a6b7-ca913944c2b6 user=\"Patricia Joseph\" business=\"DHT Holdings, Inc.\" amount=183.34 disputed=false\r\n",
      "2016-08-05 14:37:07 uuid=a576d115-620b-41f1-9890-58d1551bfd2d user=\"Holly Montoya\" business=\"Estee Lauder Companies, Inc. (The)\" amount=22.64 disputed=false\r\n",
      "2016-08-05 14:36:32 uuid=a576d115-620b-41f1-9890-58d1551bfd2d user=\"Holly Montoya\" business=\"Western Alliance Bancorporation\" amount=94.37 disputed=false\r\n",
      "2016-08-05 14:36:39 uuid=a576d115-620b-41f1-9890-58d1551bfd2d user=\"Holly Montoya\" business=\"Ryerson Holding Corporation\" amount=245.2 disputed=false\r\n",
      "2016-08-05 14:37:04 uuid=a576d115-620b-41f1-9890-58d1551bfd2d user=\"Holly Montoya\" business=\"Dover Motorsports, Inc.\" amount=195.77 disputed=false\r\n"
     ]
    }
   ],
   "source": [
    "! head output.log"
   ]
  },
  {
   "cell_type": "code",
   "execution_count": null,
   "metadata": {
    "collapsed": true
   },
   "outputs": [],
   "source": []
  }
 ],
 "metadata": {
  "kernelspec": {
   "display_name": "Python 3",
   "language": "python3",
   "name": "python3"
  },
  "language_info": {
   "codemirror_mode": {
    "name": "ipython",
    "version": 3
   },
   "file_extension": ".py",
   "mimetype": "text/x-python",
   "name": "python",
   "nbconvert_exporter": "python",
   "pygments_lexer": "ipython3",
   "version": "3.5.2"
  }
 },
 "nbformat": 4,
 "nbformat_minor": 0
}
